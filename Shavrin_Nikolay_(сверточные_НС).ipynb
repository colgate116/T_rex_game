{
  "nbformat": 4,
  "nbformat_minor": 0,
  "metadata": {
    "colab": {
      "provenance": [],
      "authorship_tag": "ABX9TyMFtbYLkebv0zvw93oje2pK",
      "include_colab_link": true
    },
    "kernelspec": {
      "name": "python3",
      "display_name": "Python 3"
    },
    "language_info": {
      "name": "python"
    },
    "accelerator": "GPU",
    "gpuClass": "standard"
  },
  "cells": [
    {
      "cell_type": "markdown",
      "metadata": {
        "id": "view-in-github",
        "colab_type": "text"
      },
      "source": [
        "<a href=\"https://colab.research.google.com/github/colgate116/T_rex_game/blob/master/Shavrin_Nikolay_(%D1%81%D0%B2%D0%B5%D1%80%D1%82%D0%BE%D1%87%D0%BD%D1%8B%D0%B5_%D0%9D%D0%A1).ipynb\" target=\"_parent\"><img src=\"https://colab.research.google.com/assets/colab-badge.svg\" alt=\"Open In Colab\"/></a>"
      ]
    },
    {
      "cell_type": "code",
      "execution_count": null,
      "metadata": {
        "id": "ohIu_iCke-w6"
      },
      "outputs": [],
      "source": [
        "import matplotlib.pyplot as plt\n",
        "import numpy as np\n",
        "from numpy.ma.core import argmax\n",
        "\n",
        "from keras.models import Sequential\n",
        "from keras.layers import Conv2D, MaxPooling2D, Dense, Flatten\n",
        "from tensorflow.keras.utils import to_categorical\n",
        "from keras.callbacks import EarlyStopping\n",
        "from tensorflow.keras.datasets.fashion_mnist import load_data"
      ]
    },
    {
      "cell_type": "code",
      "source": [
        "(x_train, y_train), (x_test, y_test) = load_data()"
      ],
      "metadata": {
        "id": "--BVovl8hQ1D"
      },
      "execution_count": null,
      "outputs": []
    },
    {
      "cell_type": "code",
      "source": [
        "x_test = x_test.reshape(-1, 28, 28, 1)\n",
        "x_train = x_train.reshape(-1, 28, 28, 1)\n",
        "\n",
        "y_train = to_categorical(y_train)\n",
        "y_test = to_categorical(y_test)"
      ],
      "metadata": {
        "id": "bM7sQ6T9h3U6"
      },
      "execution_count": null,
      "outputs": []
    },
    {
      "cell_type": "code",
      "source": [
        "model = Sequential()\n",
        "model.add(Conv2D(128, 5, activation = 'relu', input_shape = (28, 28, 1)))\n",
        "model.add(Conv2D(64,3, activation = 'relu'))\n",
        "model.add(MaxPooling2D(2))\n",
        "model.add(Conv2D(32, 3, activation = 'relu'))\n",
        "model.add(MaxPooling2D(2))\n",
        "model.add(Flatten())\n",
        "model.add(Dense(10, activation='softmax'))"
      ],
      "metadata": {
        "id": "x_7QwoeegpVw"
      },
      "execution_count": null,
      "outputs": []
    },
    {
      "cell_type": "code",
      "source": [
        "model.compile(loss='categorical_crossentropy', optimizer='adam', metrics=['acc'])\n",
        "model.summary()"
      ],
      "metadata": {
        "colab": {
          "base_uri": "https://localhost:8080/"
        },
        "id": "aAOodGBYlwjd",
        "outputId": "226a1b9a-53a5-4883-af28-e476bc0cd02c"
      },
      "execution_count": null,
      "outputs": [
        {
          "output_type": "stream",
          "name": "stdout",
          "text": [
            "Model: \"sequential_3\"\n",
            "_________________________________________________________________\n",
            " Layer (type)                Output Shape              Param #   \n",
            "=================================================================\n",
            " conv2d_5 (Conv2D)           (None, 24, 24, 128)       3328      \n",
            "                                                                 \n",
            " conv2d_6 (Conv2D)           (None, 22, 22, 64)        73792     \n",
            "                                                                 \n",
            " max_pooling2d_2 (MaxPooling  (None, 11, 11, 64)       0         \n",
            " 2D)                                                             \n",
            "                                                                 \n",
            " conv2d_7 (Conv2D)           (None, 9, 9, 32)          18464     \n",
            "                                                                 \n",
            " max_pooling2d_3 (MaxPooling  (None, 4, 4, 32)         0         \n",
            " 2D)                                                             \n",
            "                                                                 \n",
            " flatten_3 (Flatten)         (None, 512)               0         \n",
            "                                                                 \n",
            " dense_1 (Dense)             (None, 10)                5130      \n",
            "                                                                 \n",
            "=================================================================\n",
            "Total params: 100,714\n",
            "Trainable params: 100,714\n",
            "Non-trainable params: 0\n",
            "_________________________________________________________________\n"
          ]
        }
      ]
    },
    {
      "cell_type": "code",
      "source": [
        "early_stop = EarlyStopping(monitor = 'val_loss',\n",
        "                           min_delta = 0.05,\n",
        "                           patience=5,\n",
        "                           verbose=1,\n",
        "                           mode='min'\n",
        "                          )"
      ],
      "metadata": {
        "id": "BpAUolhFnPZT"
      },
      "execution_count": null,
      "outputs": []
    },
    {
      "cell_type": "code",
      "source": [
        "model.fit(x_train, y_train, validation_data=(x_test, y_test), epochs=20, batch_size=64, callbacks = early_stop)"
      ],
      "metadata": {
        "colab": {
          "base_uri": "https://localhost:8080/"
        },
        "id": "a7wkRUGAmZ7f",
        "outputId": "ca56f327-5cb6-4cfa-fc59-c675f6fb9aef"
      },
      "execution_count": null,
      "outputs": [
        {
          "output_type": "stream",
          "name": "stdout",
          "text": [
            "Epoch 1/20\n",
            "938/938 [==============================] - 10s 8ms/step - loss: 0.7135 - acc: 0.7839 - val_loss: 0.4914 - val_acc: 0.8204\n",
            "Epoch 2/20\n",
            "938/938 [==============================] - 7s 8ms/step - loss: 0.4001 - acc: 0.8576 - val_loss: 0.4008 - val_acc: 0.8601\n",
            "Epoch 3/20\n",
            "938/938 [==============================] - 8s 8ms/step - loss: 0.3597 - acc: 0.8695 - val_loss: 0.3660 - val_acc: 0.8686\n",
            "Epoch 4/20\n",
            "938/938 [==============================] - 8s 9ms/step - loss: 0.3374 - acc: 0.8784 - val_loss: 0.3660 - val_acc: 0.8650\n",
            "Epoch 5/20\n",
            "938/938 [==============================] - 7s 8ms/step - loss: 0.3171 - acc: 0.8850 - val_loss: 0.3586 - val_acc: 0.8768\n",
            "Epoch 6/20\n",
            "938/938 [==============================] - 7s 8ms/step - loss: 0.2986 - acc: 0.8916 - val_loss: 0.3587 - val_acc: 0.8781\n",
            "Epoch 7/20\n",
            "938/938 [==============================] - 7s 8ms/step - loss: 0.2893 - acc: 0.8954 - val_loss: 0.3303 - val_acc: 0.8827\n",
            "Epoch 8/20\n",
            "938/938 [==============================] - 8s 8ms/step - loss: 0.2704 - acc: 0.9020 - val_loss: 0.3220 - val_acc: 0.8896\n",
            "Epoch 9/20\n",
            "938/938 [==============================] - 8s 9ms/step - loss: 0.2605 - acc: 0.9045 - val_loss: 0.3328 - val_acc: 0.8839\n",
            "Epoch 10/20\n",
            "938/938 [==============================] - 7s 8ms/step - loss: 0.2534 - acc: 0.9082 - val_loss: 0.3553 - val_acc: 0.8816\n",
            "Epoch 11/20\n",
            "938/938 [==============================] - 8s 8ms/step - loss: 0.2403 - acc: 0.9131 - val_loss: 0.3205 - val_acc: 0.8888\n",
            "Epoch 12/20\n",
            "938/938 [==============================] - 8s 9ms/step - loss: 0.2363 - acc: 0.9136 - val_loss: 0.3337 - val_acc: 0.8874\n",
            "Epoch 12: early stopping\n"
          ]
        },
        {
          "output_type": "execute_result",
          "data": {
            "text/plain": [
              "<keras.callbacks.History at 0x7f162a1ac5e0>"
            ]
          },
          "metadata": {},
          "execution_count": 54
        }
      ]
    },
    {
      "cell_type": "code",
      "source": [
        "a=364\n",
        "plt.imshow(x_test[a])\n",
        "print('answer',argmax(y_test[a]))\n",
        "print('pred',argmax(model.predict(x_test[a].reshape(-1,28,28,1))))"
      ],
      "metadata": {
        "colab": {
          "base_uri": "https://localhost:8080/",
          "height": 317
        },
        "id": "eCjCCGqJpfY9",
        "outputId": "c711f8b4-b85a-4e61-8155-96ba72b385c7"
      },
      "execution_count": null,
      "outputs": [
        {
          "output_type": "stream",
          "name": "stdout",
          "text": [
            "answer 4\n",
            "1/1 [==============================] - 0s 56ms/step\n",
            "pred 4\n"
          ]
        },
        {
          "output_type": "display_data",
          "data": {
            "text/plain": [
              "<Figure size 432x288 with 1 Axes>"
            ],
            "image/png": "[encoded data removed]"
          },
          "metadata": {
            "needs_background": "light"
          }
        }
      ]
    }
  ]
}